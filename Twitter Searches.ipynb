{
 "cells": [
  {
   "cell_type": "markdown",
   "id": "cc4b7d43-be81-47e1-aeb0-0667585751ca",
   "metadata": {},
   "source": [
    "# Twitter Searches\n",
    "\n",
    "This notebook documents the Twitter data collection that was done from the Search API. These queries have been limited to 1,000,000 tweets between  2020-05-25 and 2021-05-25. In addition the queries filter out retweets, so the resulting data files will only contain original tweets. The 1 million limit is important to guard against going over the 10 million tweet monthly quota for the Academic Research product track.\n",
    "\n",
    "The following sections outline different data collection jobs that were run, the exact twarc command that was used, and the total resulting tweets that were collected."
   ]
  },
  {
   "cell_type": "markdown",
   "id": "99afb5e8-6a82-4cfd-b65a-692113fcc9b0",
   "metadata": {},
   "source": [
    "### \"african american\" OR \"black american\""
   ]
  },
  {
   "cell_type": "code",
   "execution_count": null,
   "id": "a897d6a4-0e0a-4658-8cc8-910f0eedfa54",
   "metadata": {},
   "outputs": [],
   "source": [
    "!twarc2 search --start-time 2020-05-25 --end-time 2021-05-25 --archive --limit 1000000 \"\\\"african american\\\" OR \\\"black american\\\"-is:retweet\" black_us.json"
   ]
  },
  {
   "cell_type": "markdown",
   "id": "ee836548-7bd5-4c2a-9012-68d94cb30b01",
   "metadata": {},
   "source": [
    "Results: 253,456 tweets"
   ]
  },
  {
   "cell_type": "markdown",
   "id": "399adcd6-a464-48dc-971f-e340fd99e8a6",
   "metadata": {},
   "source": [
    "### \"black people\""
   ]
  },
  {
   "cell_type": "code",
   "execution_count": null,
   "id": "1102784d-aa56-4801-9197-83a24a140249",
   "metadata": {},
   "outputs": [],
   "source": [
    "!twarc2 search --start-time 2020-05-25 --end-time 2021-05-25 --archive --limit 1000000 \"\\\"black people\\\"-is:retweet\" black_ppl.json"
   ]
  },
  {
   "cell_type": "markdown",
   "id": "f25ecd78-dde7-45ae-a65a-ba7f14ee9aea",
   "metadata": {},
   "source": [
    "Results: 387,146 tweets"
   ]
  },
  {
   "cell_type": "markdown",
   "id": "2c3bb0e3-b0e5-4607-9e0b-103e24c6a217",
   "metadata": {},
   "source": [
    "### \"white on white crime\" OR \"black on black crime\" "
   ]
  },
  {
   "cell_type": "code",
   "execution_count": null,
   "id": "4cb6779f-a973-41e9-bf47-29c0e2ed8171",
   "metadata": {},
   "outputs": [],
   "source": [
    "!twarc2 search --start-time 2020-05-25 --end-time 2021-05-25 --archive --limit 1000000 \"\\\"white on white crime\\\" OR \\\"black on black crime\\\"-is:retweet\"  crime.json"
   ]
  },
  {
   "cell_type": "markdown",
   "id": "4191b62a-1980-4c89-8bb0-f508957e8c76",
   "metadata": {},
   "source": [
    "Results: 62,299 tweets"
   ]
  },
  {
   "cell_type": "markdown",
   "id": "109c45bc-36ad-4284-a84a-7fadf0171f8b",
   "metadata": {},
   "source": [
    "### \"school to prison pipeline\" OR \"achievement gap\""
   ]
  },
  {
   "cell_type": "code",
   "execution_count": null,
   "id": "1ddb197a-cdfc-4a69-ba1f-1f0c1cbad4eb",
   "metadata": {},
   "outputs": [],
   "source": [
    "!twarc2 search --start-time 2020-05-25 --end-time 2021-05-25 --archive --limit 1000000 \"\\\"school to prison pipeline\\\" OR \\\"achievement gap\\\"-is:retweet\" prison_pipe_achievement_gap.json"
   ]
  },
  {
   "cell_type": "markdown",
   "id": "b99e5ef4-9edd-4dd8-9d8a-6e5703767691",
   "metadata": {},
   "source": [
    "Results: 177,126 tweets"
   ]
  },
  {
   "cell_type": "markdown",
   "id": "a2456eec-84c8-4aab-b904-453faaf3154e",
   "metadata": {},
   "source": [
    "### \"black business\" or \"black owned business\""
   ]
  },
  {
   "cell_type": "code",
   "execution_count": null,
   "id": "608fb5af-e590-45c5-8eeb-91cb058a7e38",
   "metadata": {},
   "outputs": [],
   "source": [
    "!twarc2 search --start-time 2020-05-25 --end-time 2021-05-25 --archive --limit 1000000 \"\\\"black business\\\" OR \\\"black owned business\\\"-is:retweet\" business.json"
   ]
  },
  {
   "cell_type": "markdown",
   "id": "5ff46b3e-60c4-405c-a4f2-fa608e91c815",
   "metadata": {},
   "source": [
    "Results: 802,327"
   ]
  },
  {
   "cell_type": "markdown",
   "id": "00f60433-ceb0-4aa4-ab63-11d89b2bde9d",
   "metadata": {},
   "source": [
    "### \"racial wealth gap\""
   ]
  },
  {
   "cell_type": "code",
   "execution_count": null,
   "id": "9ee1874f-ca65-4128-ac82-e732e0641985",
   "metadata": {},
   "outputs": [],
   "source": [
    "!twarc2 search --start-time 2020-05-25 --end-time 2021-05-25 --archive --limit 1000000 \"\\\"racial wealth gap\\\" -is:retweet\" wealth.json"
   ]
  },
  {
   "cell_type": "markdown",
   "id": "c160e674-c21e-416d-9953-59899140f507",
   "metadata": {},
   "source": [
    "Results: 36,246"
   ]
  },
  {
   "cell_type": "markdown",
   "id": "0d06d34d-5a55-478a-b5a2-1ae55866c05c",
   "metadata": {},
   "source": [
    "### racism"
   ]
  },
  {
   "cell_type": "code",
   "execution_count": null,
   "id": "fb322f7f-f78c-4cf0-ad18-4052dd119b4d",
   "metadata": {},
   "outputs": [],
   "source": [
    "!twarc2 search --start-time 2020-05-25 --end-time 2021-05-25 --archive --limit 1000000 \"(racism) -is:retweet\" racism.json"
   ]
  },
  {
   "cell_type": "markdown",
   "id": "6d16ca93-3902-4f34-956b-6adc4b189635",
   "metadata": {},
   "source": [
    "Results: 1,000,377 tweets"
   ]
  },
  {
   "cell_type": "markdown",
   "id": "3334bc59-ae09-4f85-a149-f60775fa5318",
   "metadata": {},
   "source": [
    "### \"police violence\" OR \"police brutality\""
   ]
  },
  {
   "cell_type": "code",
   "execution_count": null,
   "id": "cf926a42-e828-441b-bf4e-dc7258de4016",
   "metadata": {},
   "outputs": [],
   "source": [
    "!twarc2 search --start-time 2020-05-25 --end-time 2021-05-25 --archive --limit 1000000 \"\\\"police violence\\\" OR \\\"police brutality\\\" -is:retweet\" police_violence.json"
   ]
  },
  {
   "cell_type": "markdown",
   "id": "17d8a95c-1529-470b-a1b7-eaf1cdd6bbe9",
   "metadata": {},
   "source": [
    "Results: 467,581 tweets"
   ]
  },
  {
   "cell_type": "markdown",
   "id": "fb02a74b-e812-450a-a368-50e37ff9f153",
   "metadata": {},
   "source": [
    "### blacklivesmatter OR \"black lives matter\" OR blm"
   ]
  },
  {
   "cell_type": "code",
   "execution_count": null,
   "id": "dff73494-01e6-4f8b-8813-1c25b8ecc954",
   "metadata": {},
   "outputs": [],
   "source": [
    "!twarc2 search --start-time 2020-05-25 --end-time 2021-05-25 --archive --limit 1000000 \"\\\"blacklivesmatter\\\" OR \\\"black lives matter\\\" OR \\\"blm\\\"-is:retweet\" blm.json"
   ]
  },
  {
   "cell_type": "markdown",
   "id": "234970f5-48d9-4e76-a6e2-5b93dd2c9c58",
   "metadata": {},
   "source": [
    "Results: 1,000,336 tweets"
   ]
  },
  {
   "cell_type": "markdown",
   "id": "2d592ef2-c287-466d-b858-62dd66b251ba",
   "metadata": {},
   "source": [
    "### \"George Floyd\" or \"Derek Chauvin\""
   ]
  },
  {
   "cell_type": "code",
   "execution_count": null,
   "id": "27efc35d-8e6a-4c44-a54c-844f567b6829",
   "metadata": {},
   "outputs": [],
   "source": [
    "!twarc2 search --start-time 2020-05-25 --end-time 2021-05-25 --archive --limit 1000000 \"\\\"George Floyd\\\" OR \\\"Derek Chauvin\\\" -is:retweet\" floyd_chauvin.json"
   ]
  },
  {
   "cell_type": "markdown",
   "id": "933f0280-1744-4d89-8639-27713c5c8328",
   "metadata": {},
   "source": [
    "Results: 1,000,184 tweets"
   ]
  },
  {
   "cell_type": "code",
   "execution_count": null,
   "id": "3b1dea3a-8333-42ef-9d0d-b828233a0d31",
   "metadata": {},
   "outputs": [],
   "source": []
  }
 ],
 "metadata": {
  "kernelspec": {
   "display_name": "Python 3 (ipykernel)",
   "language": "python",
   "name": "python3"
  },
  "language_info": {
   "codemirror_mode": {
    "name": "ipython",
    "version": 3
   },
   "file_extension": ".py",
   "mimetype": "text/x-python",
   "name": "python",
   "nbconvert_exporter": "python",
   "pygments_lexer": "ipython3",
   "version": "3.8.10"
  }
 },
 "nbformat": 4,
 "nbformat_minor": 5
}
